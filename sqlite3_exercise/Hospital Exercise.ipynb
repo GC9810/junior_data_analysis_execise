{
 "cells": [
  {
   "cell_type": "code",
   "execution_count": 42,
   "id": "13935141",
   "metadata": {},
   "outputs": [
    {
     "name": "stdout",
     "output_type": "stream",
     "text": [
      "DB version :  3.38.2\n"
     ]
    }
   ],
   "source": [
    "#Exercise 1: Connect to your database server and print its version\n",
    "import sqlite3 as sq\n",
    "\n",
    "try:\n",
    "    con = sq.connect('hospital.db')\n",
    "    cursor = con.cursor()\n",
    "    cursor.execute(\"select sqlite_version()\")\n",
    "    print(\"DB version : \",cursor.fetchone()[0])\n",
    "    cursor.close()\n",
    "\n",
    "except sqlite3.Error as error:\n",
    "    print(\"DB ERROR\")"
   ]
  },
  {
   "cell_type": "code",
   "execution_count": 44,
   "id": "8a1ef43e",
   "metadata": {},
   "outputs": [
    {
     "name": "stdout",
     "output_type": "stream",
     "text": [
      "Input Hospital / Doc ID : 2\n",
      "(2, 'Linda', 101, '2007-08-08', 'Gyane', '5', 850000.0)\n"
     ]
    }
   ],
   "source": [
    "#Exercise 2: Fetch Hospital and Doctor Information using hospital Id and doctor Id\n",
    "import sqlite3 as sq\n",
    "con = sq.connect('hospital.db')\n",
    "cursor = con.cursor()\n",
    "\n",
    "def fetch_HosID(hospID):\n",
    "    cursor.execute(\"SELECT * FROM Hospital WHERE ID = \" + str(hospID))\n",
    "    output = cursor.fetchall()\n",
    "    for row in output:\n",
    "      print(row)\n",
    "    \n",
    "def fetch_DocID(DocID):\n",
    "    cursor.execute(\"SELECT * FROM Doctor WHERE DocID = \" + str(DocID))\n",
    "    output = cursor.fetchall()\n",
    "    for row in output:\n",
    "      print(row)\n",
    "\n",
    "keyword = input(\"Input Hospital / Doc ID : \")\n",
    "if len(keyword) == 1:\n",
    "    fetch_DocID(keyword)\n",
    "elif len(keyword) == 3:\n",
    "    fetch_HosID(keyword)\n",
    "else : print(\"Error\")\n",
    "\n",
    "# Close the connection\n",
    "cursor.close()"
   ]
  },
  {
   "cell_type": "code",
   "execution_count": 8,
   "id": "50987d41",
   "metadata": {},
   "outputs": [
    {
     "name": "stdout",
     "output_type": "stream",
     "text": [
      "('Michael', 'Pediatric', 900000.0)\n",
      "('Linda', 'Gyane', 850000.0)\n",
      "('William', 'Cardialogist', 1000000.0)\n",
      "('Richard', 'Pediatric', 950000.0)\n",
      "('Karen', 'Oncologist', 1100000.0)\n",
      "('Robert', 'Gyane', 940000.0)\n",
      "('Susan', 'Oncologist', 870000.0)\n",
      "('Nancy', 'Cardialogist', 870000.0)\n",
      "('Nick', 'Cardialogist', 770000.0)\n"
     ]
    }
   ],
   "source": [
    "#Question 3 : Get the list Of doctors as per the given specialty and salary\n",
    "import sqlite3 as sq\n",
    "con = sq.connect('hospital.db')\n",
    "cursor = con.cursor()\n",
    "\n",
    "cursor.execute(\"SELECT DocName, Speciality, salary FROM Doctor\")\n",
    "output = cursor.fetchall()\n",
    "for row in output:\n",
    "    print(row)\n",
    "    \n",
    "cursor.close()"
   ]
  },
  {
   "cell_type": "code",
   "execution_count": 11,
   "id": "a4cb1b6e",
   "metadata": {},
   "outputs": [
    {
     "name": "stdout",
     "output_type": "stream",
     "text": [
      "Input HospID : 101\n",
      "(1, 'Michael', 101, '2005-02-10', 'Pediatric', '10', 900000.0)\n",
      "(2, 'Linda', 101, '2007-08-08', 'Gyane', '5', 850000.0)\n",
      "(4, 'Richard', 101, '2011-09-05', 'Pediatric', '12', 950000.0)\n"
     ]
    }
   ],
   "source": [
    "#Question 4 : Get a list of doctors from a given hospital\n",
    "import sqlite3 as sq\n",
    "con = sq.connect('hospital.db')\n",
    "cursor = con.cursor()\n",
    "\n",
    "def fetch_DocList(hospID):\n",
    "    cursor.execute(\"SELECT * FROM Doctor WHERE HospitalID = \" + str(hospID))\n",
    "    output = cursor.fetchall()\n",
    "    for row in output:\n",
    "      print(row)\n",
    "\n",
    "keyword = input(\"Input HospID : \")\n",
    "fetch_DocList(keyword)\n",
    "cursor.close()"
   ]
  },
  {
   "cell_type": "code",
   "execution_count": 48,
   "id": "db991873",
   "metadata": {},
   "outputs": [
    {
     "name": "stdout",
     "output_type": "stream",
     "text": [
      "Doc ID : 1 ,Yr :  17\n",
      "Doc ID : 2 ,Yr :  14\n",
      "Doc ID : 3 ,Yr :  17\n",
      "Doc ID : 4 ,Yr :  10\n",
      "Doc ID : 5 ,Yr :  1\n",
      "Doc ID : 6 ,Yr :  23\n",
      "Doc ID : 7 ,Yr :  28\n",
      "Doc ID : 8 ,Yr :  28\n",
      "Doc ID : 9 ,Yr :  3\n"
     ]
    }
   ],
   "source": [
    "#Question 5 : Update doctor experience in years\n",
    "import sqlite3 as sq\n",
    "from datetime import datetime as dt\n",
    "now = dt.now()\n",
    "\n",
    "con = sq.connect('hospital.db')\n",
    "cursor = con.cursor()\n",
    "cursor.execute(\"SELECT DocID, JoiningDate FROM Doctor\") #Get the date of joining\n",
    "output = cursor.fetchall()\n",
    "for row in output:\n",
    "    #print(row[1])\n",
    "    DocID = row[0]\n",
    "    Joining_Date = dt.strptime(row[1], \"%Y-%m-%d\")\n",
    "    print(\"Doc ID :\",DocID,\",Yr : \",int((now-Joining_Date).days/365.2425)) #365.2425 is the day in a year\n",
    "\n",
    "cursor.close()"
   ]
  },
  {
   "cell_type": "code",
   "execution_count": null,
   "id": "e705e59d",
   "metadata": {},
   "outputs": [],
   "source": []
  }
 ],
 "metadata": {
  "kernelspec": {
   "display_name": "Python 3 (ipykernel)",
   "language": "python",
   "name": "python3"
  },
  "language_info": {
   "codemirror_mode": {
    "name": "ipython",
    "version": 3
   },
   "file_extension": ".py",
   "mimetype": "text/x-python",
   "name": "python",
   "nbconvert_exporter": "python",
   "pygments_lexer": "ipython3",
   "version": "3.9.12"
  }
 },
 "nbformat": 4,
 "nbformat_minor": 5
}
